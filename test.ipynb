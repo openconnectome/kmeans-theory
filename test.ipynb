{
 "cells": [
  {
   "cell_type": "code",
   "execution_count": 4,
   "metadata": {
    "collapsed": false
   },
   "outputs": [
    {
     "name": "stdout",
     "output_type": "stream",
     "text": [
      "mle\n",
      "4149.7943904\n",
      "mle\n",
      "1583.97446836\n",
      "mle\n",
      "1577.49669373\n",
      "mle\n",
      "1565.11886165\n",
      "mle\n",
      "1577.8427421\n",
      "mle\n",
      "1557.01758291\n",
      "mle\n",
      "1590.88705903\n",
      "mle\n",
      "1594.7764433\n",
      "mle\n",
      "1575.88002176\n",
      "[4149.7943904015356, 1583.9744683574741, 1577.4966937319346, 1565.118861647268, 1577.8427420999221, 1557.0175829127952, 1590.8870590308995, 1594.7764433045577, 1575.8800217576072]\n",
      "[4161.7773194957517, 1613.931791093014, 1625.4284101087985, 1631.0249716654557, 1661.7232457594339, 1658.872480213631, 1710.7163499730591, 1732.5801278880413, 1731.6580999824148]\n",
      "[-2565.8199220440615, -6.4777746255394959, -12.377832084666579, 12.723880452654157, -20.825159187126928, 33.86947611810433, 3.8893842736581519]\n",
      "False\n"
     ]
    },
    {
     "data": {
      "text/plain": [
       "[<matplotlib.lines.Line2D at 0x7f6e3adf4510>]"
      ]
     },
     "execution_count": 4,
     "metadata": {},
     "output_type": "execute_result"
    },
    {
     "data": {
      "image/png": "[encoded data removed]",
      "text/plain": [
       "<matplotlib.figure.Figure at 0x7f6e3a7067d0>"
      ]
     },
     "metadata": {},
     "output_type": "display_data"
    }
   ],
   "source": [
    "# %load ron_gmmtest.py\n",
    "%matplotlib inline\n",
    "import matplotlib.pyplot as plt\n",
    "import numpy as np\n",
    "from sklearn import mixture\n",
    "\n",
    "\n",
    "#woah sci kit learn is really cool\n",
    "\n",
    "np.random.seed(1)\n",
    "\n",
    "mleArr = []\n",
    "bic = []\n",
    "mleDifferences = []\n",
    "\n",
    "\n",
    "def mle(GMM, X):\n",
    "\treturn -2 * GMM.score(X).sum()\n",
    "\n",
    "def verifyConcavity(arr):\n",
    "\tfor x in xrange(0, len(arr) - 2):\n",
    "\t\tif arr[x+2] - 2*arr[x +1] + arr[x] >  0:\n",
    "\t\t\treturn False\n",
    "\treturn True\n",
    "\t\t\t\n",
    "\n",
    "for x in xrange(1,10):\n",
    "\tg = mixture.GMM(n_components=x)\n",
    "\t# generate random observations with two modes centered on 0 and 100 \n",
    "\tobs = np.concatenate((np.random.randn(100, 1), 100 + np.random.randn(300, 1)))\n",
    "\tg.fit(obs)\n",
    "\tprint 'mle'\n",
    "\tprint mle(g, obs)\n",
    "\tmleArr.append(mle(g, obs))\n",
    "\tbic.append(g.bic(obs))\n",
    "\n",
    "print mleArr\n",
    "#why is the fit so good for 1 GMM?\n",
    "print bic\n",
    "\n",
    "for x in xrange(1,len(mleArr) - 1):\n",
    "\tmleDifferences.append(mleArr[x] - mleArr[x-1])\t\n",
    "\n",
    "print mleDifferences\n",
    "print verifyConcavity(mleDifferences)\n",
    "\n",
    "plt.plot([1,2], [3,4])\n",
    "\n",
    "\n",
    "\n",
    "#bic source code, using this to define MLE function\n",
    "# def bic(self, X):\n",
    "# \"\"\"Bayesian information criterion for the current model fit\n",
    "# and the proposed data\n",
    "# Parameters\n",
    "# ----------\n",
    "# X : array of shape(n_samples, n_dimensions)\n",
    "# Returns\n",
    "# -------\n",
    "# bic: float (the lower the better)\n",
    "# \"\"\"\n",
    "# return (-2 * self.score(X).sum() +\n",
    "#         self._n_parameters() * np.log(X.shape[0]))\n",
    "\n",
    "\n",
    "\n",
    "\n"
   ]
  },
  {
   "cell_type": "code",
   "execution_count": null,
   "metadata": {
    "collapsed": true
   },
   "outputs": [],
   "source": []
  }
 ],
 "metadata": {
  "kernelspec": {
   "display_name": "Python 2",
   "language": "python",
   "name": "python2"
  },
  "language_info": {
   "codemirror_mode": {
    "name": "ipython",
    "version": 2
   },
   "file_extension": ".py",
   "mimetype": "text/x-python",
   "name": "python",
   "nbconvert_exporter": "python",
   "pygments_lexer": "ipython2",
   "version": "2.7.6"
  }
 },
 "nbformat": 4,
 "nbformat_minor": 0
}
